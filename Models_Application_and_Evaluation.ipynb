{
 "cells": [
  {
   "cell_type": "code",
   "execution_count": 14,
   "metadata": {
    "collapsed": true
   },
   "outputs": [],
   "source": [
    "import pandas as pd\n",
    "import numpy as np\n",
    "import matplotlib.pyplot as plt\n",
    "import xgboost as xgb\n",
    "import warnings\n",
    "from sklearn.model_selection import GridSearchCV\n",
    "from sklearn.model_selection import train_test_split\n",
    "from sklearn.neighbors import KNeighborsClassifier\n",
    "from sklearn.naive_bayes import MultinomialNB\n",
    "from sklearn.linear_model import LogisticRegression\n",
    "from sklearn.tree import DecisionTreeClassifier\n",
    "from sklearn.svm import SVC\n",
    "from sklearn.ensemble import RandomForestClassifier\n",
    "from sklearn.ensemble import BaggingClassifier\n",
    "from sklearn.metrics import precision_score, auc, precision_recall_curve, f1_score\n",
    "from prettytable import PrettyTable\n",
    "\n",
    "#Disable annoying warnings\n",
    "warnings.filterwarnings(\"ignore\")\n",
    "#Split data(X+y) with stratify (EGV)\n",
    "X = np.array(pd.read_csv('CAX_Features_Selection.csv'))\n",
    "y = np.array(pd.read_csv('CAX_Preprocessed_Target_ADA.csv'))\n",
    "data = np.concatenate((X,y),axis=1)\n",
    "\n",
    "train_data, test_data = train_test_split(data, test_size=0.2, random_state=42, stratify=y)\n",
    "train_X = train_data[:,0:12]\n",
    "test_X = test_data[:,0:12]\n",
    "train_y = np.reshape(train_data[:,12],(377,1))\n",
    "test_y = np.reshape(test_data[:,12],(95,1))"
   ]
  },
  {
   "cell_type": "markdown",
   "source": [
    "#### K-Nearest Neighbor"
   ],
   "metadata": {
    "collapsed": false,
    "pycharm": {
     "name": "#%% md\n"
    }
   }
  },
  {
   "cell_type": "code",
   "execution_count": 15,
   "outputs": [
    {
     "name": "stdout",
     "output_type": "stream",
     "text": [
      "Best n_neighbors: 29\n",
      "Best metric: euclidean\n",
      "0.8709226467847158\n"
     ]
    }
   ],
   "source": [
    "n_neighbors = list(range(1, 30))\n",
    "metric = ['euclidean', 'manhattan', 'minkowski']\n",
    "\n",
    "knn_parameters = {'n_neighbors':n_neighbors, 'metric':metric}\n",
    "\n",
    "knn = KNeighborsClassifier()\n",
    "clf_knn = GridSearchCV(estimator=knn, param_grid=knn_parameters, scoring='precision_macro', cv=10)\n",
    "clf_knn.fit(train_X, train_y)\n",
    "y_predicted_knn = clf_knn.predict(test_X)\n",
    "p_knn_test = precision_score(test_y, y_predicted_knn, average='macro')\n",
    "\n",
    "print('Best n_neighbors:', clf_knn.best_estimator_.get_params()['n_neighbors'])\n",
    "print('Best metric:', clf_knn.best_estimator_.get_params()['metric'])\n",
    "print(p_knn_test)"
   ],
   "metadata": {
    "collapsed": false,
    "pycharm": {
     "name": "#%%\n"
    }
   }
  },
  {
   "cell_type": "markdown",
   "source": [
    "#### Naive Bayes"
   ],
   "metadata": {
    "collapsed": false,
    "pycharm": {
     "name": "#%% md\n"
    }
   }
  },
  {
   "cell_type": "code",
   "execution_count": 16,
   "outputs": [
    {
     "name": "stdout",
     "output_type": "stream",
     "text": [
      "Best alpha: 4.724\n",
      "0.7835595776772247\n"
     ]
    }
   ],
   "source": [
    "alpha = list(np.arange(0.001, 5, 0.001))\n",
    "\n",
    "nb_parameters = {'alpha':alpha}\n",
    "\n",
    "nb = MultinomialNB()\n",
    "clf_nb = GridSearchCV(estimator=nb, param_grid=nb_parameters, scoring='precision_macro', cv=10)\n",
    "clf_nb.fit(train_X, train_y)\n",
    "y_predicted_nb = clf_nb.predict(test_X)\n",
    "p_nb_test = precision_score(test_y, y_predicted_nb, average='macro')\n",
    "\n",
    "print('Best alpha:', clf_nb.best_estimator_.get_params()['alpha'])\n",
    "print(p_nb_test)"
   ],
   "metadata": {
    "collapsed": false,
    "pycharm": {
     "name": "#%%\n"
    }
   }
  },
  {
   "cell_type": "markdown",
   "source": [
    "#### Logistic Regression"
   ],
   "metadata": {
    "collapsed": false,
    "pycharm": {
     "name": "#%% md\n"
    }
   }
  },
  {
   "cell_type": "code",
   "execution_count": 17,
   "outputs": [
    {
     "name": "stdout",
     "output_type": "stream",
     "text": [
      "Best penalty: l1\n",
      "Best C: 1.5799999999999994\n",
      "Best solvers: liblinear\n",
      "0.8294232649071358\n"
     ]
    }
   ],
   "source": [
    "penalty = ['l1','l2', 'elasticnet', 'none']\n",
    "c_lr = list(np.arange(0.1, 3, 0.01))\n",
    "solvers = ['newton-cg', 'lbfgs', 'liblinear']\n",
    "\n",
    "lr_parameters = {'penalty':penalty,'C':c_lr, 'solver':solvers, 'random_state':[42]}\n",
    "\n",
    "lr = LogisticRegression()\n",
    "clf_lr = GridSearchCV(estimator=lr, param_grid=lr_parameters, scoring='precision_macro', cv=10)\n",
    "clf_lr.fit(train_X, train_y)\n",
    "y_predicted_lr = clf_lr.predict(test_X)\n",
    "p_lr_test = precision_score(test_y, y_predicted_lr, average='macro')\n",
    "\n",
    "print('Best penalty:', clf_lr.best_estimator_.get_params()['penalty'])\n",
    "print('Best C:', clf_lr.best_estimator_.get_params()['C'])\n",
    "print('Best solvers:', clf_lr.best_estimator_.get_params()['solver'])\n",
    "print(p_lr_test)"
   ],
   "metadata": {
    "collapsed": false,
    "pycharm": {
     "name": "#%%\n"
    }
   }
  },
  {
   "cell_type": "markdown",
   "source": [
    "#### Decision Tree"
   ],
   "metadata": {
    "collapsed": false,
    "pycharm": {
     "name": "#%% md\n"
    }
   }
  },
  {
   "cell_type": "code",
   "execution_count": 18,
   "outputs": [
    {
     "name": "stdout",
     "output_type": "stream",
     "text": [
      "Best criterion: entropy\n",
      "Best max_depth: 4\n",
      "Best max_features: 4\n",
      "0.8266542404473439\n"
     ]
    }
   ],
   "source": [
    "criterion = [\"gini\", \"entropy\"]\n",
    "max_depth_dt = list(np.arange(1,5,1))\n",
    "max_features_dt = [1, 2, 3, 4, 5, 6, 'auto', 'sqrt', 'log2', None]\n",
    "\n",
    "dt_parameters = {'criterion':criterion, 'max_depth':max_depth_dt,\n",
    "                 'max_features':max_features_dt, 'random_state':[42]}\n",
    "\n",
    "dt = DecisionTreeClassifier()\n",
    "clf_dt = GridSearchCV(estimator=dt, param_grid=dt_parameters, scoring='precision_macro', cv=10)\n",
    "clf_dt.fit(train_X, train_y)\n",
    "y_predicted_dt = clf_dt.predict(test_X)\n",
    "p_dt_test = precision_score(test_y, y_predicted_dt, average='macro')\n",
    "\n",
    "print('Best criterion:', clf_dt.best_estimator_.get_params()['criterion'])\n",
    "print('Best max_depth:', clf_dt.best_estimator_.get_params()['max_depth'])\n",
    "print('Best max_features:', clf_dt.best_estimator_.get_params()['max_features'])\n",
    "print(p_dt_test)"
   ],
   "metadata": {
    "collapsed": false,
    "pycharm": {
     "name": "#%%\n"
    }
   }
  },
  {
   "cell_type": "markdown",
   "source": [
    "#### Support Vector Machine"
   ],
   "metadata": {
    "collapsed": false,
    "pycharm": {
     "name": "#%% md\n"
    }
   }
  },
  {
   "cell_type": "code",
   "execution_count": 19,
   "outputs": [
    {
     "name": "stdout",
     "output_type": "stream",
     "text": [
      "Best C: 0.064\n",
      "Best kernel: rbf\n",
      "Best gamma: scale\n",
      "0.8346560846560847\n"
     ]
    }
   ],
   "source": [
    "c_sv = list(np.arange(0.001, 0.1, 0.001))\n",
    "kernel = ['linear', 'poly', 'rbf', 'sigmoid']\n",
    "gamma_sv = ['scale', 'auto']\n",
    "\n",
    "sv_parameters = {'C':c_sv,'kernel':kernel, 'gamma':gamma_sv, 'random_state':[42]}\n",
    "\n",
    "sv = SVC()\n",
    "clf_sv = GridSearchCV(estimator=sv, param_grid=sv_parameters, scoring='precision_macro', cv=10)\n",
    "clf_sv.fit(train_X, train_y)\n",
    "y_predicted_sv = clf_sv.predict(test_X)\n",
    "p_sv_test = precision_score(test_y, y_predicted_sv, average='macro')\n",
    "\n",
    "print('Best C:', clf_sv.best_estimator_.get_params()['C'])\n",
    "print('Best kernel:', clf_sv.best_estimator_.get_params()['kernel'])\n",
    "print('Best gamma:', clf_sv.best_estimator_.get_params()['gamma'])\n",
    "print(p_sv_test)"
   ],
   "metadata": {
    "collapsed": false,
    "pycharm": {
     "name": "#%%\n"
    }
   }
  },
  {
   "cell_type": "markdown",
   "source": [
    "#### Random Forest"
   ],
   "metadata": {
    "collapsed": false,
    "pycharm": {
     "name": "#%% md\n",
     "is_executing": true
    }
   }
  },
  {
   "cell_type": "code",
   "execution_count": 20,
   "outputs": [
    {
     "name": "stdout",
     "output_type": "stream",
     "text": [
      "Best criterion: gini\n",
      "Best max_depth: 4\n",
      "Best max_features: 2\n",
      "0.880796370967742\n"
     ]
    }
   ],
   "source": [
    "criterion_rf = [\"gini\", \"entropy\"]\n",
    "max_depth_rf = list(np.arange(1, 5, 1))\n",
    "max_features_rf = [1, 2, 3, 4, 5, 'auto', 'sqrt', 'log2', None]\n",
    "\n",
    "rf_parameters = {'criterion':criterion_rf, 'max_depth':max_depth_rf,\n",
    "                 'max_features':max_features_rf, 'random_state':[42]}\n",
    "\n",
    "rf = RandomForestClassifier()\n",
    "clf_rf = GridSearchCV(estimator=rf, param_grid=rf_parameters, scoring='precision_macro', cv=10)\n",
    "clf_rf.fit(train_X, train_y)\n",
    "y_predicted_rf = clf_rf.predict(test_X)\n",
    "p_rf_test = precision_score(test_y, y_predicted_rf, average='macro')\n",
    "\n",
    "print('Best criterion:', clf_rf.best_estimator_.get_params()['criterion'])\n",
    "print('Best max_depth:', clf_rf.best_estimator_.get_params()['max_depth'])\n",
    "print('Best max_features:', clf_rf.best_estimator_.get_params()['max_features'])\n",
    "print(p_rf_test)"
   ],
   "metadata": {
    "collapsed": false,
    "pycharm": {
     "name": "#%%\n"
    }
   }
  },
  {
   "cell_type": "markdown",
   "source": [
    "#### Extreme Gradient Boosting"
   ],
   "metadata": {
    "collapsed": false,
    "pycharm": {
     "name": "#%% md\n"
    }
   }
  },
  {
   "cell_type": "code",
   "execution_count": 21,
   "outputs": [
    {
     "name": "stdout",
     "output_type": "stream",
     "text": [
      "Best eta: 0.6\n",
      "Best max_depth: 4\n",
      "Best gamma: 1\n",
      "Best lambda: 0.6\n",
      "Best alpha: 0.8999999999999999\n",
      "0.8758553274682307\n"
     ]
    }
   ],
   "source": [
    "eta = list(np.arange(0.5, 1, 0.1))\n",
    "max_depth_eg = list(np.arange(1, 5, 1))\n",
    "gamma_eg = list(np.arange(1, 5, 1))\n",
    "lambda_eg = list(np.arange(0.5, 1, 0.1))\n",
    "alpha_eg = list(np.arange(0.5, 1, 0.1))\n",
    "\n",
    "eg_parameters = {'eta':eta,\n",
    "                 'max_depth':max_depth_eg,\n",
    "                 'gamma':gamma_eg,\n",
    "                 'lambda':lambda_eg,\n",
    "                 'alpha':alpha_eg,\n",
    "                 'random_state':[42], 'objective':['reg:logistic']}\n",
    "\n",
    "eg = xgb.XGBClassifier()\n",
    "clf_eg = GridSearchCV(estimator=eg, param_grid=eg_parameters, scoring='precision_macro', cv=10)\n",
    "clf_eg.fit(train_X, train_y)\n",
    "y_predicted_eg = clf_eg.predict(test_X)\n",
    "p_eg_test = precision_score(test_y, y_predicted_eg, average='macro')\n",
    "\n",
    "print('Best eta:', clf_eg.best_estimator_.get_params()['eta'])\n",
    "print('Best max_depth:', clf_eg.best_estimator_.get_params()['max_depth'])\n",
    "print('Best gamma:', clf_eg.best_estimator_.get_params()['gamma'])\n",
    "print('Best lambda:', clf_eg.best_estimator_.get_params()['lambda'])\n",
    "print('Best alpha:', clf_eg.best_estimator_.get_params()['alpha'])\n",
    "print(p_eg_test)"
   ],
   "metadata": {
    "collapsed": false,
    "pycharm": {
     "name": "#%%\n"
    }
   }
  },
  {
   "cell_type": "markdown",
   "source": [
    "##### Bagging Classifier"
   ],
   "metadata": {
    "collapsed": false,
    "pycharm": {
     "name": "#%% md\n"
    }
   }
  },
  {
   "cell_type": "code",
   "execution_count": 22,
   "outputs": [
    {
     "name": "stdout",
     "output_type": "stream",
     "text": [
      "Best base_estimator: DecisionTreeClassifier(ccp_alpha=0.0, class_weight=None, criterion='entropy',\n",
      "                       max_depth=4, max_features=4, max_leaf_nodes=None,\n",
      "                       min_impurity_decrease=0.0, min_impurity_split=None,\n",
      "                       min_samples_leaf=1, min_samples_split=2,\n",
      "                       min_weight_fraction_leaf=0.0, presort='deprecated',\n",
      "                       random_state=42, splitter='best')\n",
      "0.8167791706846672\n"
     ]
    }
   ],
   "source": [
    "base_estimator = [KNeighborsClassifier(n_neighbors=29, metric='euclidean'),\n",
    "                  MultinomialNB(alpha=4.724),\n",
    "                  LogisticRegression(penalty='l1', C=1.58, solver='liblinear', random_state=42),\n",
    "                  DecisionTreeClassifier(criterion = 'entropy', max_depth=4, max_features=4, random_state=42),\n",
    "                  SVC(C=0.064, kernel='rbf', gamma='scale', random_state=42)]\n",
    "\n",
    "bc_parameters = {'base_estimator':base_estimator,\n",
    "                 'random_state':[42]}\n",
    "\n",
    "bc = BaggingClassifier()\n",
    "clf_bc = GridSearchCV(estimator=bc, param_grid=bc_parameters, scoring='precision_macro', cv=10)\n",
    "clf_bc.fit(train_X, train_y)\n",
    "y_predicted_bc = clf_bc.predict(test_X)\n",
    "p_bc_test = precision_score(test_y, y_predicted_bc, average='macro')\n",
    "\n",
    "print('Best base_estimator:', clf_bc.best_estimator_.get_params()['base_estimator'])\n",
    "print(p_bc_test)"
   ],
   "metadata": {
    "collapsed": false,
    "pycharm": {
     "name": "#%%\n"
    }
   }
  },
  {
   "cell_type": "markdown",
   "source": [
    "#### Table Comparison"
   ],
   "metadata": {
    "collapsed": false,
    "pycharm": {
     "name": "#%% md\n"
    }
   }
  },
  {
   "cell_type": "code",
   "execution_count": 11,
   "outputs": [
    {
     "name": "stdout",
     "output_type": "stream",
     "text": [
      "+---------------------------+----------------------+\n",
      "|           Model           |  Macro Precision (%) |\n",
      "+---------------------------+----------------------+\n",
      "|    K-Nearest Neighbors    |       84.8788        |\n",
      "|        Naive Bayes        |       83.5526        |\n",
      "|    Logistic Regression    |       87.0923        |\n",
      "|       Decision Tree       |       93.1292        |\n",
      "|   Support Vector Machine  |       83.4656        |\n",
      "|       Random Forest       |       93.7004        |\n",
      "| Extreme Gradient Boosting |       88.9881        |\n",
      "|     Bagging Classifier    |       93.1292        |\n",
      "+---------------------------+----------------------+\n"
     ]
    }
   ],
   "source": [
    "results = PrettyTable()\n",
    "results.field_names = ['Model', ' Macro Precision (%)']\n",
    "results.add_row(['K-Nearest Neighbors', format(p_knn_test*100,'.4f')])\n",
    "results.add_row(['Naive Bayes', format(p_nb_test*100,'.4f')])\n",
    "results.add_row(['Logistic Regression', format(p_lr_test*100,'.4f')])\n",
    "results.add_row(['Decision Tree', format(p_dt_test*100,'.4f')])\n",
    "results.add_row(['Support Vector Machine', format(p_sv_test*100,'.4f')])\n",
    "results.add_row(['Random Forest', format(p_rf_test*100,'.4f')])\n",
    "results.add_row(['Extreme Gradient Boosting', format(p_eg_test*100,'.4f')])\n",
    "results.add_row(['Bagging Classifier', format(p_bc_test*100,'.4f')])\n",
    "lines = results.get_string()\n",
    "with open('Precision Score', 'w') as w:\n",
    "    w.write(str(lines))\n",
    "print(results)"
   ],
   "metadata": {
    "collapsed": false,
    "pycharm": {
     "name": "#%%\n"
    }
   }
  },
  {
   "cell_type": "markdown",
   "source": [
    "#### Precision-Recall Curve Comparison"
   ],
   "metadata": {
    "collapsed": false,
    "pycharm": {
     "name": "#%% md\n"
    }
   }
  },
  {
   "cell_type": "code",
   "execution_count": 23,
   "outputs": [
    {
     "data": {
      "text/plain": "<Figure size 432x288 with 1 Axes>",
      "image/png": "[encoded data removed]"
     },
     "metadata": {},
     "output_type": "display_data"
    }
   ],
   "source": [
    "models = [{'label':'K-Nearest Neighbors',\n",
    "           'model':KNeighborsClassifier(n_neighbors=29, metric='euclidean'),\n",
    "           'color':'lightsalmon'},\n",
    "          {'label':'Naive Bayes',\n",
    "           'model':MultinomialNB(alpha= 4.724),\n",
    "           'color':'peachpuff'},\n",
    "          {'label':'Logistic Regression',\n",
    "           'model':LogisticRegression(penalty='l1', C=1.58, solver='liblinear', random_state=42),\n",
    "           'color':'navajowhite'},\n",
    "          {'label':'Decision Tree',\n",
    "           'model':DecisionTreeClassifier(criterion='entropy', max_depth=4, max_features=4, random_state=42),\n",
    "           'color':'paleturquoise'},\n",
    "          {'label':'Support Vector Machine',\n",
    "           'model':SVC(C=0.064, kernel='rbf', gamma='scale', probability=True, random_state=42),\n",
    "           'color':'lavender'},\n",
    "          {'label':'Extreme Gradient Boosting',\n",
    "           'model':xgb.XGBClassifier(eta= 0.6, max_depth=4, gamma=1, reg_lambda=0.6, reg_alpha=0.9, random_state=42),\n",
    "           'color':'pink'},\n",
    "          {'label':'Bagging Classifier',\n",
    "           'model':BaggingClassifier(base_estimator=DecisionTreeClassifier(criterion='entropy', max_depth=4, max_features=4, random_state=42), random_state=42),\n",
    "           'color':'powderblue'},\n",
    "          {'label':'Random Forest',\n",
    "           'model':RandomForestClassifier(criterion='gini', max_depth=4, max_features=2, random_state=42),\n",
    "           'color':'black'},]\n",
    "\n",
    "for m in models:\n",
    "    model = m['model']\n",
    "    model.fit(train_X, train_y)\n",
    "    proba_y = model.predict_proba(test_X)[::,1]\n",
    "    precision, recall, _ = precision_recall_curve(test_y, proba_y)\n",
    "    plt.plot(recall, precision, label=m['label'], color=m['color'])\n",
    "\n",
    "\n",
    "no_skill = len(test_y[test_y==1]) / len(test_y)\n",
    "plt.plot([0,1], [no_skill, no_skill], linestyle='--', label='No Skill', color='gray')\n",
    "plt.xlabel('Recall')\n",
    "plt.ylabel('Precision')\n",
    "plt.legend(bbox_to_anchor=(1, 1), loc='medium left', prop={'size':10})\n",
    "plt.style.use('seaborn-white')\n",
    "plt.title('Precision-Recall Curve Comparison', fontweight=\"bold\", size=14)\n",
    "plt.gcf().savefig('Precision-Recall curve.png', dpi=800, bbox_inches='tight', pad_inches=0.5)\n",
    "plt.show()\n"
   ],
   "metadata": {
    "collapsed": false,
    "pycharm": {
     "name": "#%%\n"
    }
   }
  }
 ],
 "metadata": {
  "kernelspec": {
   "display_name": "Python 3",
   "language": "python",
   "name": "python3"
  },
  "language_info": {
   "codemirror_mode": {
    "name": "ipython",
    "version": 2
   },
   "file_extension": ".py",
   "mimetype": "text/x-python",
   "name": "python",
   "nbconvert_exporter": "python",
   "pygments_lexer": "ipython2",
   "version": "2.7.6"
  }
 },
 "nbformat": 4,
 "nbformat_minor": 0
}